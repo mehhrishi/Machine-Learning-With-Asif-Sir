{
 "cells": [
  {
   "cell_type": "code",
   "execution_count": 1,
   "id": "4641f3de",
   "metadata": {},
   "outputs": [],
   "source": [
    "import numpy as np\n",
    "import pandas as pd\n",
    "import matplotlib.pyplot as plt\n",
    "import seaborn as sns\n",
    "import warnings\n",
    "warnings.filterwarnings(\"ignore\")"
   ]
  },
  {
   "cell_type": "code",
   "execution_count": 2,
   "id": "68e08d38",
   "metadata": {},
   "outputs": [],
   "source": [
    "x = np.array([1,2,3,4,5])\n",
    "y = np.array([3,4,2,4,5])"
   ]
  },
  {
   "cell_type": "code",
   "execution_count": 3,
   "id": "e1e6b6b5",
   "metadata": {},
   "outputs": [
    {
     "data": {
      "text/html": [
       "<div>\n",
       "<style scoped>\n",
       "    .dataframe tbody tr th:only-of-type {\n",
       "        vertical-align: middle;\n",
       "    }\n",
       "\n",
       "    .dataframe tbody tr th {\n",
       "        vertical-align: top;\n",
       "    }\n",
       "\n",
       "    .dataframe thead th {\n",
       "        text-align: right;\n",
       "    }\n",
       "</style>\n",
       "<table border=\"1\" class=\"dataframe\">\n",
       "  <thead>\n",
       "    <tr style=\"text-align: right;\">\n",
       "      <th></th>\n",
       "      <th>X</th>\n",
       "      <th>Y</th>\n",
       "    </tr>\n",
       "  </thead>\n",
       "  <tbody>\n",
       "    <tr>\n",
       "      <th>0</th>\n",
       "      <td>1</td>\n",
       "      <td>3</td>\n",
       "    </tr>\n",
       "    <tr>\n",
       "      <th>1</th>\n",
       "      <td>2</td>\n",
       "      <td>4</td>\n",
       "    </tr>\n",
       "    <tr>\n",
       "      <th>2</th>\n",
       "      <td>3</td>\n",
       "      <td>2</td>\n",
       "    </tr>\n",
       "    <tr>\n",
       "      <th>3</th>\n",
       "      <td>4</td>\n",
       "      <td>4</td>\n",
       "    </tr>\n",
       "    <tr>\n",
       "      <th>4</th>\n",
       "      <td>5</td>\n",
       "      <td>5</td>\n",
       "    </tr>\n",
       "  </tbody>\n",
       "</table>\n",
       "</div>"
      ],
      "text/plain": [
       "   X  Y\n",
       "0  1  3\n",
       "1  2  4\n",
       "2  3  2\n",
       "3  4  4\n",
       "4  5  5"
      ]
     },
     "execution_count": 3,
     "metadata": {},
     "output_type": "execute_result"
    }
   ],
   "source": [
    "dic = { \n",
    "       \"X\":x,\n",
    "       \"Y\":y\n",
    "}\n",
    "df = pd.DataFrame(dic)\n",
    "df"
   ]
  },
  {
   "cell_type": "markdown",
   "id": "0a4563e9",
   "metadata": {},
   "source": [
    "# Goal :- To find the BestFit Line Of The Data using formula y = mx+c"
   ]
  },
  {
   "cell_type": "code",
   "execution_count": 4,
   "id": "47d77e10",
   "metadata": {},
   "outputs": [
    {
     "name": "stdout",
     "output_type": "stream",
     "text": [
      "The Mean of X :- 3.0\n",
      "The Mean of Y :- 3.6\n"
     ]
    }
   ],
   "source": [
    "xmean = x.mean()\n",
    "\n",
    "ymean = y.mean()\n",
    "\n",
    "print(f\"The Mean of X :- {xmean}\")\n",
    "print(f\"The Mean of Y :- {ymean}\")"
   ]
  },
  {
   "cell_type": "code",
   "execution_count": 5,
   "id": "942f5ad4",
   "metadata": {},
   "outputs": [
    {
     "name": "stdout",
     "output_type": "stream",
     "text": [
      "Coefficient Of Regression :- 0.4\n"
     ]
    }
   ],
   "source": [
    "m = sum((x-xmean)*(y-ymean))/sum((x-xmean)**2)\n",
    "\n",
    "print(f\"Coefficient Of Regression :- {m}\")"
   ]
  },
  {
   "cell_type": "code",
   "execution_count": 6,
   "id": "ba8a0f40",
   "metadata": {},
   "outputs": [
    {
     "name": "stdout",
     "output_type": "stream",
     "text": [
      "The Intercept of Regssion Line:- 2.4\n"
     ]
    }
   ],
   "source": [
    "#ymean = xmean*m + c\n",
    "\n",
    "c = ymean - (m*xmean)\n",
    "\n",
    "print(f\"The Intercept of Regssion Line:- {c}\")"
   ]
  },
  {
   "cell_type": "code",
   "execution_count": 7,
   "id": "a25dd71d",
   "metadata": {},
   "outputs": [],
   "source": [
    "def linreg(x):\n",
    "    return (m*x+c)"
   ]
  },
  {
   "cell_type": "code",
   "execution_count": 8,
   "id": "94dcf715",
   "metadata": {},
   "outputs": [],
   "source": [
    "ypred = np.array(list(map(linreg,x)))"
   ]
  },
  {
   "cell_type": "code",
   "execution_count": 9,
   "id": "8aa9a971",
   "metadata": {},
   "outputs": [
    {
     "data": {
      "text/plain": [
       "array([2.8, 3.2, 3.6, 4. , 4.4])"
      ]
     },
     "execution_count": 9,
     "metadata": {},
     "output_type": "execute_result"
    }
   ],
   "source": [
    "ypred"
   ]
  },
  {
   "cell_type": "code",
   "execution_count": 10,
   "id": "0832723c",
   "metadata": {},
   "outputs": [
    {
     "data": {
      "text/html": [
       "<div>\n",
       "<style scoped>\n",
       "    .dataframe tbody tr th:only-of-type {\n",
       "        vertical-align: middle;\n",
       "    }\n",
       "\n",
       "    .dataframe tbody tr th {\n",
       "        vertical-align: top;\n",
       "    }\n",
       "\n",
       "    .dataframe thead th {\n",
       "        text-align: right;\n",
       "    }\n",
       "</style>\n",
       "<table border=\"1\" class=\"dataframe\">\n",
       "  <thead>\n",
       "    <tr style=\"text-align: right;\">\n",
       "      <th></th>\n",
       "      <th>X</th>\n",
       "      <th>Actual Y</th>\n",
       "      <th>Predicted Y</th>\n",
       "    </tr>\n",
       "  </thead>\n",
       "  <tbody>\n",
       "    <tr>\n",
       "      <th>0</th>\n",
       "      <td>1</td>\n",
       "      <td>3</td>\n",
       "      <td>2.8</td>\n",
       "    </tr>\n",
       "    <tr>\n",
       "      <th>1</th>\n",
       "      <td>2</td>\n",
       "      <td>4</td>\n",
       "      <td>3.2</td>\n",
       "    </tr>\n",
       "    <tr>\n",
       "      <th>2</th>\n",
       "      <td>3</td>\n",
       "      <td>2</td>\n",
       "      <td>3.6</td>\n",
       "    </tr>\n",
       "    <tr>\n",
       "      <th>3</th>\n",
       "      <td>4</td>\n",
       "      <td>4</td>\n",
       "      <td>4.0</td>\n",
       "    </tr>\n",
       "    <tr>\n",
       "      <th>4</th>\n",
       "      <td>5</td>\n",
       "      <td>5</td>\n",
       "      <td>4.4</td>\n",
       "    </tr>\n",
       "  </tbody>\n",
       "</table>\n",
       "</div>"
      ],
      "text/plain": [
       "   X  Actual Y  Predicted Y\n",
       "0  1         3          2.8\n",
       "1  2         4          3.2\n",
       "2  3         2          3.6\n",
       "3  4         4          4.0\n",
       "4  5         5          4.4"
      ]
     },
     "execution_count": 10,
     "metadata": {},
     "output_type": "execute_result"
    }
   ],
   "source": [
    "dic = {\n",
    "    \"X\":x,\n",
    "    \"Actual Y\":y,\n",
    "    \"Predicted Y\":ypred\n",
    "    \n",
    "    \n",
    "}\n",
    "\n",
    "df = pd.DataFrame(dic)\n",
    "df"
   ]
  },
  {
   "cell_type": "code",
   "execution_count": 11,
   "id": "047dbde2",
   "metadata": {},
   "outputs": [
    {
     "data": {
      "image/png": "[encoded data removed]",
      "text/plain": [
       "<Figure size 432x288 with 1 Axes>"
      ]
     },
     "metadata": {
      "needs_background": "light"
     },
     "output_type": "display_data"
    }
   ],
   "source": [
    "plt.scatter(x,y,color=\"red\")\n",
    "plt.plot(x,ypred,color=\"blue\")\n",
    "plt.show()"
   ]
  },
  {
   "cell_type": "markdown",
   "id": "29176aaa",
   "metadata": {},
   "source": [
    "# MAE"
   ]
  },
  {
   "cell_type": "code",
   "execution_count": 13,
   "id": "dd13ba3b",
   "metadata": {},
   "outputs": [
    {
     "data": {
      "text/plain": [
       "0.6399999999999999"
      ]
     },
     "execution_count": 13,
     "metadata": {},
     "output_type": "execute_result"
    }
   ],
   "source": [
    "sum(abs(y-ypred))/len(x)"
   ]
  },
  {
   "cell_type": "markdown",
   "id": "ec9aac3e",
   "metadata": {},
   "source": [
    "# MSE"
   ]
  },
  {
   "cell_type": "code",
   "execution_count": 14,
   "id": "8c20f795",
   "metadata": {},
   "outputs": [
    {
     "data": {
      "text/plain": [
       "0.72"
      ]
     },
     "execution_count": 14,
     "metadata": {},
     "output_type": "execute_result"
    }
   ],
   "source": [
    "sum((y-ypred)**2)/len(x)"
   ]
  },
  {
   "cell_type": "markdown",
   "id": "59bc80c5",
   "metadata": {},
   "source": [
    "# RMSE"
   ]
  },
  {
   "cell_type": "code",
   "execution_count": 15,
   "id": "524a4f4e",
   "metadata": {},
   "outputs": [
    {
     "data": {
      "text/plain": [
       "0.848528137423857"
      ]
     },
     "execution_count": 15,
     "metadata": {},
     "output_type": "execute_result"
    }
   ],
   "source": [
    "np.sqrt(sum((y-ypred)**2)/len(x))"
   ]
  },
  {
   "cell_type": "markdown",
   "id": "3dcb83bf",
   "metadata": {},
   "source": [
    "# R2 SCORE"
   ]
  },
  {
   "cell_type": "code",
   "execution_count": 16,
   "id": "0dd98f76",
   "metadata": {},
   "outputs": [
    {
     "name": "stdout",
     "output_type": "stream",
     "text": [
      "The Accuracy Of This Model is :- 0.3076923076923078\n"
     ]
    }
   ],
   "source": [
    "r2 = sum((ypred-ymean)**2)/sum((y-ymean)**2)\n",
    "\n",
    "print(f\"The Accuracy Of This Model is :- {r2}\")"
   ]
  },
  {
   "cell_type": "markdown",
   "id": "d85d2248",
   "metadata": {},
   "source": [
    "# New Observation"
   ]
  },
  {
   "cell_type": "code",
   "execution_count": 18,
   "id": "a7a63660",
   "metadata": {},
   "outputs": [
    {
     "data": {
      "text/plain": [
       "5.2"
      ]
     },
     "execution_count": 18,
     "metadata": {},
     "output_type": "execute_result"
    }
   ],
   "source": [
    "linreg(7)"
   ]
  },
  {
   "cell_type": "code",
   "execution_count": 19,
   "id": "dfe29fb7",
   "metadata": {},
   "outputs": [
    {
     "name": "stdout",
     "output_type": "stream",
     "text": [
      "Enter the No of Hrs You Study:- 1.23\n",
      "You Will Score 2.892 Marks Out 5\n"
     ]
    }
   ],
   "source": [
    "newob = float(input(\"Enter the No of Hrs You Study:- \"))\n",
    "\n",
    "print(f\"You Will Score {linreg(newob)} Marks Out 5\")\n"
   ]
  },
  {
   "cell_type": "code",
   "execution_count": 1,
   "id": "656cdf0e",
   "metadata": {},
   "outputs": [],
   "source": [
    "import numpy as np"
   ]
  },
  {
   "cell_type": "code",
   "execution_count": 2,
   "id": "8f9de35a",
   "metadata": {},
   "outputs": [
    {
     "data": {
      "text/plain": [
       "array([38, 44])"
      ]
     },
     "execution_count": 2,
     "metadata": {},
     "output_type": "execute_result"
    }
   ],
   "source": [
    "np.random.seed(1)\n",
    "np.random.randint(1,50,2)"
   ]
  },
  {
   "cell_type": "code",
   "execution_count": null,
   "id": "1787d918",
   "metadata": {},
   "outputs": [],
   "source": []
  }
 ],
 "metadata": {
  "kernelspec": {
   "display_name": "Python 3 (ipykernel)",
   "language": "python",
   "name": "python3"
  },
  "language_info": {
   "codemirror_mode": {
    "name": "ipython",
    "version": 3
   },
   "file_extension": ".py",
   "mimetype": "text/x-python",
   "name": "python",
   "nbconvert_exporter": "python",
   "pygments_lexer": "ipython3",
   "version": "3.8.3"
  }
 },
 "nbformat": 4,
 "nbformat_minor": 5
}
